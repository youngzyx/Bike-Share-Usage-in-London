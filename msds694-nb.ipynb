{
 "cells": [
  {
   "cell_type": "code",
   "execution_count": 1,
   "id": "bacec2ef-a71a-4f59-aa39-211be1697286",
   "metadata": {
    "execution": {
     "iopub.execute_input": "2021-12-08T03:55:51.412475Z",
     "iopub.status.busy": "2021-12-08T03:55:51.412306Z",
     "iopub.status.idle": "2021-12-08T03:55:51.429842Z",
     "shell.execute_reply": "2021-12-08T03:55:51.429200Z",
     "shell.execute_reply.started": "2021-12-08T03:55:51.412452Z"
    },
    "tags": []
   },
   "outputs": [],
   "source": [
    "%%configure -f\n",
    "{\"conf\":{\n",
    "    \"spark.pyspark.python\":\"python3\",\n",
    "    \"spark.pyspark.virtualenv.enabled\":\"true\",\n",
    "    \"spark.pyspark.virtualenv.type\":\"native\",\n",
    "    \"spark.pyspark.virtualenv.bin.path\":\"/usr/bin/virtualenv\",\n",
    "    \n",
    "    \"spark.executor.heartbeaInterval\":\"10000s\",\n",
    "    \"spark.network.timeout\":\"24h\",\n",
    "    \n",
    "    \"spark.driver.memory\":\"1G\",\n",
    "    \"spark.executor.memory\":\"1G\",\n",
    "    \"spark.executor.cores\":\"2\",\n",
    "\n",
    "    \"spark.app.name\":\"msds694\"\n",
    "}\n",
    "}\n",
    "\n"
   ]
  },
  {
   "cell_type": "code",
   "execution_count": null,
   "id": "cd79f045-7d09-4b66-b2f7-4666f2b9a426",
   "metadata": {},
   "outputs": [],
   "source": [
    "# import pyspark\n",
    "# from pyspark import SparkContext\n",
    "\n",
    "import plotly.io as pio\n",
    "pio.renderers\n",
    "pio.renderers.default = \"browser\"\n",
    "from datetime import datetime\n",
    "\n",
    "import plotly\n",
    "import plotly.graph_objects as go"
   ]
  },
  {
   "cell_type": "code",
   "execution_count": 2,
   "id": "fab0f51d-61d6-4107-b883-1092ef455199",
   "metadata": {
    "execution": {
     "iopub.execute_input": "2021-12-08T03:57:30.059944Z",
     "iopub.status.busy": "2021-12-08T03:57:30.059721Z",
     "iopub.status.idle": "2021-12-08T03:57:56.793775Z",
     "shell.execute_reply": "2021-12-08T03:57:56.793215Z",
     "shell.execute_reply.started": "2021-12-08T03:57:30.059920Z"
    },
    "tags": []
   },
   "outputs": [
    {
     "data": {
      "application/vnd.jupyter.widget-view+json": {
       "model_id": "bf27ff43f5974c1e99716f25f698c7fb",
       "version_major": 2,
       "version_minor": 0
      },
      "text/plain": [
       "VBox()"
      ]
     },
     "metadata": {},
     "output_type": "display_data"
    },
    {
     "name": "stdout",
     "output_type": "stream",
     "text": [
      "Starting Spark application\n"
     ]
    },
    {
     "data": {
      "text/html": [
       "<table>\n",
       "<tr><th>ID</th><th>YARN Application ID</th><th>Kind</th><th>State</th><th>Spark UI</th><th>Driver log</th><th>Current session?</th></tr><tr><td>2</td><td>application_1638934593238_0003</td><td>pyspark</td><td>idle</td><td><a target=\"_blank\" href=\"http://ip-172-31-35-1.us-west-2.compute.internal:20888/proxy/application_1638934593238_0003/\" class=\"emr-proxy-link\" emr-resource=\"j-3MYUG5P1HL4QN\n",
       "\" application-id=\"application_1638934593238_0003\">Link</a></td><td><a target=\"_blank\" href=\"http://ip-172-31-36-3.us-west-2.compute.internal:8042/node/containerlogs/container_1638934593238_0003_01_000001/livy\" >Link</a></td><td>✔</td></tr></table>"
      ],
      "text/plain": [
       "<IPython.core.display.HTML object>"
      ]
     },
     "metadata": {},
     "output_type": "display_data"
    },
    {
     "data": {
      "application/vnd.jupyter.widget-view+json": {
       "model_id": "",
       "version_major": 2,
       "version_minor": 0
      },
      "text/plain": [
       "FloatProgress(value=0.0, bar_style='info', description='Progress:', layout=Layout(height='25px', width='50%'),…"
      ]
     },
     "metadata": {},
     "output_type": "display_data"
    },
    {
     "name": "stdout",
     "output_type": "stream",
     "text": [
      "SparkSession available as 'spark'.\n"
     ]
    },
    {
     "data": {
      "application/vnd.jupyter.widget-view+json": {
       "model_id": "",
       "version_major": 2,
       "version_minor": 0
      },
      "text/plain": [
       "FloatProgress(value=0.0, bar_style='info', description='Progress:', layout=Layout(height='25px', width='50%'),…"
      ]
     },
     "metadata": {},
     "output_type": "display_data"
    },
    {
     "name": "stdout",
     "output_type": "stream",
     "text": [
      "<SparkContext master=yarn appName=msds694>"
     ]
    }
   ],
   "source": [
    "sc"
   ]
  },
  {
   "cell_type": "code",
   "execution_count": 3,
   "id": "7166a09e-85e7-4bea-8a15-367b44e0ab61",
   "metadata": {
    "execution": {
     "iopub.execute_input": "2021-12-08T03:58:28.148002Z",
     "iopub.status.busy": "2021-12-08T03:58:28.147773Z",
     "iopub.status.idle": "2021-12-08T03:59:43.727894Z",
     "shell.execute_reply": "2021-12-08T03:59:43.727226Z",
     "shell.execute_reply.started": "2021-12-08T03:58:28.147977Z"
    },
    "tags": []
   },
   "outputs": [
    {
     "data": {
      "application/vnd.jupyter.widget-view+json": {
       "model_id": "cc13c78c6dc046ff9f6e9db8c8210b1c",
       "version_major": 2,
       "version_minor": 0
      },
      "text/plain": [
       "VBox()"
      ]
     },
     "metadata": {},
     "output_type": "display_data"
    },
    {
     "data": {
      "application/vnd.jupyter.widget-view+json": {
       "model_id": "",
       "version_major": 2,
       "version_minor": 0
      },
      "text/plain": [
       "FloatProgress(value=0.0, bar_style='info', description='Progress:', layout=Layout(height='25px', width='50%'),…"
      ]
     },
     "metadata": {},
     "output_type": "display_data"
    },
    {
     "name": "stdout",
     "output_type": "stream",
     "text": [
      "Collecting plotly\n",
      "  Downloading https://files.pythonhosted.org/packages/c3/93/54aba8840f511c625937c77dfe5d496aa38371412da07e7a08e6c40094c7/plotly-5.4.0-py2.py3-none-any.whl (25.3MB)\n",
      "Requirement already satisfied: six in /usr/local/lib/python3.7/site-packages (from plotly)\n",
      "Collecting tenacity>=6.2.0 (from plotly)\n",
      "  Downloading https://files.pythonhosted.org/packages/f2/a5/f86bc8d67c979020438c8559cc70cfe3a1643fd160d35e09c9cca6a09189/tenacity-8.0.1-py3-none-any.whl\n",
      "Installing collected packages: tenacity, plotly\n",
      "Successfully installed plotly-5.4.0 tenacity-8.0.1"
     ]
    }
   ],
   "source": [
    "sc.install_pypi_package(\"plotly\")"
   ]
  },
  {
   "cell_type": "code",
   "execution_count": 5,
   "id": "2e5e54f5-1f54-470f-a9b7-f26336a88466",
   "metadata": {
    "execution": {
     "iopub.execute_input": "2021-12-08T04:00:34.686403Z",
     "iopub.status.busy": "2021-12-08T04:00:34.686182Z",
     "iopub.status.idle": "2021-12-08T04:00:35.470920Z",
     "shell.execute_reply": "2021-12-08T04:00:35.470231Z",
     "shell.execute_reply.started": "2021-12-08T04:00:34.686378Z"
    },
    "tags": []
   },
   "outputs": [
    {
     "data": {
      "application/vnd.jupyter.widget-view+json": {
       "model_id": "8815386d48744376bbc5dcb4f380964f",
       "version_major": 2,
       "version_minor": 0
      },
      "text/plain": [
       "VBox()"
      ]
     },
     "metadata": {},
     "output_type": "display_data"
    },
    {
     "data": {
      "application/vnd.jupyter.widget-view+json": {
       "model_id": "",
       "version_major": 2,
       "version_minor": 0
      },
      "text/plain": [
       "FloatProgress(value=0.0, bar_style='info', description='Progress:', layout=Layout(height='25px', width='50%'),…"
      ]
     },
     "metadata": {},
     "output_type": "display_data"
    },
    {
     "name": "stdout",
     "output_type": "stream",
     "text": [
      "Package                    Version  \n",
      "-------------------------- ---------\n",
      "aws-cfn-bootstrap          2.0      \n",
      "beautifulsoup4             4.9.3    \n",
      "boto                       2.49.0   \n",
      "click                      7.1.2    \n",
      "docutils                   0.14     \n",
      "jmespath                   0.10.0   \n",
      "joblib                     1.0.1    \n",
      "lockfile                   0.11.0   \n",
      "lxml                       4.6.3    \n",
      "mysqlclient                1.4.2    \n",
      "nltk                       3.5      \n",
      "nose                       1.3.4    \n",
      "numpy                      1.16.5   \n",
      "pip                        9.0.1    \n",
      "plotly                     5.4.0    \n",
      "py-dateutil                2.2      \n",
      "pystache                   0.5.4    \n",
      "python-daemon              2.2.3    \n",
      "python37-sagemaker-pyspark 1.4.1    \n",
      "pytz                       2021.1   \n",
      "PyYAML                     5.4.1    \n",
      "regex                      2021.3.17\n",
      "setuptools                 28.8.0   \n",
      "simplejson                 3.2.0    \n",
      "six                        1.13.0   \n",
      "tenacity                   8.0.1    \n",
      "tqdm                       4.59.0   \n",
      "wheel                      0.29.0   \n",
      "windmill                   1.6"
     ]
    }
   ],
   "source": [
    "sc.list_packages()"
   ]
  },
  {
   "cell_type": "code",
   "execution_count": 7,
   "id": "f126b623-0ec2-4e77-a2cb-fc579a2f1330",
   "metadata": {
    "execution": {
     "iopub.execute_input": "2021-12-08T04:02:18.607201Z",
     "iopub.status.busy": "2021-12-08T04:02:18.606964Z",
     "iopub.status.idle": "2021-12-08T04:02:18.879945Z",
     "shell.execute_reply": "2021-12-08T04:02:18.879321Z",
     "shell.execute_reply.started": "2021-12-08T04:02:18.607176Z"
    },
    "tags": []
   },
   "outputs": [
    {
     "data": {
      "application/vnd.jupyter.widget-view+json": {
       "model_id": "ee4574198978462b90a260cc7fd2e101",
       "version_major": 2,
       "version_minor": 0
      },
      "text/plain": [
       "VBox()"
      ]
     },
     "metadata": {},
     "output_type": "display_data"
    },
    {
     "data": {
      "application/vnd.jupyter.widget-view+json": {
       "model_id": "",
       "version_major": 2,
       "version_minor": 0
      },
      "text/plain": [
       "FloatProgress(value=0.0, bar_style='info', description='Progress:', layout=Layout(height='25px', width='50%'),…"
      ]
     },
     "metadata": {},
     "output_type": "display_data"
    }
   ],
   "source": [
    "data_path_london = \"s3://msds0694/london.csv\"\n",
    "data_path_station = \"s3://msds0694/london_stations.csv\"\n",
    "data_london = sc.textFile(data_path_london)\n",
    "data_london_station = sc.textFile(data_path_station)"
   ]
  },
  {
   "cell_type": "code",
   "execution_count": 9,
   "id": "ec8104ad-59f1-48ad-9e31-7843bdf4d782",
   "metadata": {
    "execution": {
     "iopub.execute_input": "2021-12-08T04:02:54.469381Z",
     "iopub.status.busy": "2021-12-08T04:02:54.469115Z",
     "iopub.status.idle": "2021-12-08T04:02:54.746182Z",
     "shell.execute_reply": "2021-12-08T04:02:54.745577Z",
     "shell.execute_reply.started": "2021-12-08T04:02:54.469342Z"
    },
    "tags": []
   },
   "outputs": [
    {
     "data": {
      "application/vnd.jupyter.widget-view+json": {
       "model_id": "fa6b67df202c4f4c989b2167119d235f",
       "version_major": 2,
       "version_minor": 0
      },
      "text/plain": [
       "VBox()"
      ]
     },
     "metadata": {},
     "output_type": "display_data"
    },
    {
     "data": {
      "application/vnd.jupyter.widget-view+json": {
       "model_id": "",
       "version_major": 2,
       "version_minor": 0
      },
      "text/plain": [
       "FloatProgress(value=0.0, bar_style='info', description='Progress:', layout=Layout(height='25px', width='50%'),…"
      ]
     },
     "metadata": {},
     "output_type": "display_data"
    },
    {
     "name": "stdout",
     "output_type": "stream",
     "text": [
      "'station_id,station_name,longitude,latitude'"
     ]
    }
   ],
   "source": [
    "data_london_station.first()"
   ]
  },
  {
   "cell_type": "code",
   "execution_count": null,
   "id": "5184b8fd-aa14-4124-ae94-c69ede70bfe4",
   "metadata": {},
   "outputs": [],
   "source": [
    "rdd = sc.textFile('london.csv')\n",
    "header = rdd.first()\n",
    "print(header)\n",
    "header_rdd = sc.parallelize([header])\n",
    "data_rdd = rdd.subtract(header_rdd)\n",
    "print()\n",
    "map_rdd = sc.textFile('london_stations.csv')\n",
    "header_map = map_rdd.first()\n",
    "print(header_map)\n",
    "maphead = sc.parallelize([header_map])\n",
    "data_map = map_rdd.subtract(maphead)"
   ]
  },
  {
   "cell_type": "code",
   "execution_count": 10,
   "id": "181da73e-0fd7-406a-bf5e-874e5cbf5511",
   "metadata": {
    "execution": {
     "iopub.execute_input": "2021-12-08T04:04:53.165813Z",
     "iopub.status.busy": "2021-12-08T04:04:53.165564Z",
     "iopub.status.idle": "2021-12-08T04:04:53.228248Z",
     "shell.execute_reply": "2021-12-08T04:04:53.227624Z",
     "shell.execute_reply.started": "2021-12-08T04:04:53.165789Z"
    }
   },
   "outputs": [
    {
     "data": {
      "application/vnd.jupyter.widget-view+json": {
       "model_id": "132b8a76874a4c12b3787554af424bd7",
       "version_major": 2,
       "version_minor": 0
      },
      "text/plain": [
       "VBox()"
      ]
     },
     "metadata": {},
     "output_type": "display_data"
    },
    {
     "data": {
      "application/vnd.jupyter.widget-view+json": {
       "model_id": "",
       "version_major": 2,
       "version_minor": 0
      },
      "text/plain": [
       "FloatProgress(value=0.0, bar_style='info', description='Progress:', layout=Layout(height='25px', width='50%'),…"
      ]
     },
     "metadata": {},
     "output_type": "display_data"
    }
   ],
   "source": [
    "def parse_csv(data):\n",
    "    pre_lst=data.split('\"')\n",
    "    if len(pre_lst)==1:\n",
    "        return data.split(',')\n",
    "    return_data = []\n",
    "    for i, l in enumerate(pre_lst):\n",
    "        if i == 0:\n",
    "            return_data += l.split(',')[:-1]\n",
    "        elif i == len(pre_lst)-1:\n",
    "            return_data += l.split(',')[1:]\n",
    "        elif i%2 == 0:\n",
    "            return_data += l.split(',')[1:-1]\n",
    "        else:\n",
    "            return_data += [l]\n",
    "    return return_data\n",
    "            "
   ]
  },
  {
   "cell_type": "code",
   "execution_count": null,
   "id": "d47424ad-85eb-467d-bf5e-667ca7980f96",
   "metadata": {},
   "outputs": [],
   "source": [
    "## get tidy rdd\n",
    "data_tidy = data_rdd.map(lambda x:parse_csv(x))\n",
    "data_tidy.cache()\n",
    "\n",
    "map_tidy = data_map.map(lambda x:parse_csv(x))\n",
    "map_tidy.cache()"
   ]
  },
  {
   "cell_type": "code",
   "execution_count": null,
   "id": "f64b177c-175b-49f9-81e8-17ef42787c06",
   "metadata": {},
   "outputs": [],
   "source": [
    "#get paired rdd\n",
    "map_pair = map_tidy.map(lambda x:(x[0],x[1:]))\n",
    "startstation_pair = data_tidy.map(lambda x:(x[-2],x[-1]))\n",
    "start_loc = startstation_pair.join(map_pair)"
   ]
  },
  {
   "cell_type": "code",
   "execution_count": 6,
   "id": "905d9f39-9333-48fc-9804-8c1bab8b0015",
   "metadata": {
    "execution": {
     "iopub.execute_input": "2021-12-08T04:02:01.878862Z",
     "iopub.status.busy": "2021-12-08T04:02:01.878636Z",
     "iopub.status.idle": "2021-12-08T04:02:01.883085Z",
     "shell.execute_reply": "2021-12-08T04:02:01.882286Z",
     "shell.execute_reply.started": "2021-12-08T04:02:01.878837Z"
    }
   },
   "outputs": [],
   "source": [
    "%%local\n",
    "import plotly\n",
    "import plotly.graph_objects as go"
   ]
  },
  {
   "cell_type": "code",
   "execution_count": null,
   "id": "cb4db81d-cac0-41d1-8628-ccd5325fdf9a",
   "metadata": {},
   "outputs": [],
   "source": []
  },
  {
   "cell_type": "code",
   "execution_count": null,
   "id": "4ac9cadb-9753-4fab-93ed-fc6d3a1554ed",
   "metadata": {},
   "outputs": [],
   "source": []
  },
  {
   "cell_type": "code",
   "execution_count": null,
   "id": "e41a7b0f-790e-4d25-a78d-00d61f4866fc",
   "metadata": {},
   "outputs": [],
   "source": []
  },
  {
   "cell_type": "code",
   "execution_count": null,
   "id": "765046cf-c8b4-4b09-8d18-e47907734ec5",
   "metadata": {},
   "outputs": [],
   "source": []
  },
  {
   "cell_type": "code",
   "execution_count": null,
   "id": "123ea249-688e-4e83-b1c1-45bb858b3f2b",
   "metadata": {},
   "outputs": [],
   "source": []
  }
 ],
 "metadata": {
  "kernelspec": {
   "display_name": "PySpark",
   "language": "",
   "name": "pysparkkernel"
  },
  "language_info": {
   "codemirror_mode": {
    "name": "python",
    "version": 3
   },
   "mimetype": "text/x-python",
   "name": "pyspark",
   "pygments_lexer": "python3"
  }
 },
 "nbformat": 4,
 "nbformat_minor": 5
}
